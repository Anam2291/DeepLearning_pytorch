{
  "nbformat": 4,
  "nbformat_minor": 0,
  "metadata": {
    "colab": {
      "provenance": [],
      "authorship_tag": "ABX9TyOJqwk6u0LTY2+uk0NI1pTN",
      "include_colab_link": true
    },
    "kernelspec": {
      "name": "python3",
      "display_name": "Python 3"
    },
    "language_info": {
      "name": "python"
    }
  },
  "cells": [
    {
      "cell_type": "markdown",
      "metadata": {
        "id": "view-in-github",
        "colab_type": "text"
      },
      "source": [
        "<a href=\"https://colab.research.google.com/github/Anam2291/DeepLearning_pytorch/blob/main/Simple_NeuralNetwork_Pytorch.ipynb\" target=\"_parent\"><img src=\"https://colab.research.google.com/assets/colab-badge.svg\" alt=\"Open In Colab\"/></a>"
      ]
    },
    {
      "cell_type": "code",
      "execution_count": 1,
      "metadata": {
        "id": "Pjx62FCr7l6O"
      },
      "outputs": [],
      "source": [
        "import torch\n",
        "import torch.nn as nn\n",
        "import torch.nn.functional as F # This will help to move our data forward in our function."
      ]
    },
    {
      "cell_type": "markdown",
      "source": [
        "**Create an Model class that inherits nn.Module**"
      ],
      "metadata": {
        "id": "MMe-bWHV-ABI"
      }
    },
    {
      "cell_type": "code",
      "source": [
        " # This class inherit nn.Module\n",
        " # Input layer (4 features of the flower)-->\n",
        " # Hidden Layer1 (number of neurons)-->\n",
        " # H2 (n)-->\n",
        " # Output (3 classes of iris flowers)\n",
        "class Model(nn.Module):\n",
        "    def __init__(self, in_features=4, h1= 8, h2= 9, out_features= 3):\n",
        "        super().__init__() # Instantiate our nn.Module\n",
        "      # Setting up our layers\n",
        "        self.fc1 = nn.Linear(in_features, h1) # fc is fully connected\n",
        "        self.fc2 = nn.Linear(h1, h2)\n",
        "        self.out = nn.Linear(h2, out_features)\n",
        "\n",
        "        # Now we need to create a function that moves everything forward\n",
        "    def forward(self, x):\n",
        "        x = F.relu(self.fc1(x))\n",
        "        x = F.relu(self.fc2(x))\n",
        "        x = self.out(x)\n",
        "        return x"
      ],
      "metadata": {
        "id": "Ui2frilt-X6l"
      },
      "execution_count": 5,
      "outputs": []
    },
    {
      "cell_type": "code",
      "source": [
        "# Pick a Mannual Seed for Randomization\n",
        "torch.manual_seed(41)\n",
        "# Create an instance of model\n",
        "model = Model()"
      ],
      "metadata": {
        "id": "F27kIiLaGE_K"
      },
      "execution_count": 6,
      "outputs": []
    },
    {
      "cell_type": "code",
      "source": [],
      "metadata": {
        "id": "PQoI4sG-GjhZ"
      },
      "execution_count": null,
      "outputs": []
    }
  ]
}